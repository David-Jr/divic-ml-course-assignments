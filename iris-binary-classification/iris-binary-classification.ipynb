{
 "cells": [
  {
   "cell_type": "markdown",
   "source": [
    "## Iris Binary Classification"
   ],
   "metadata": {
    "collapsed": false
   },
   "id": "643bff6362b8d22e"
  },
  {
   "cell_type": "markdown",
   "source": [
    "### Problem 1: Select features and categories for practice"
   ],
   "metadata": {
    "collapsed": false
   },
   "id": "c990bbe8fa6f4c7d"
  },
  {
   "cell_type": "code",
   "execution_count": 4,
   "outputs": [
    {
     "data": {
      "text/plain": "     sepal length (cm)  petal length (cm)  target\n50                 7.0                4.7       1\n51                 6.4                4.5       1\n52                 6.9                4.9       1\n53                 5.5                4.0       1\n54                 6.5                4.6       1\n..                 ...                ...     ...\n145                6.7                5.2       2\n146                6.3                5.0       2\n147                6.5                5.2       2\n148                6.2                5.4       2\n149                5.9                5.1       2\n\n[100 rows x 3 columns]",
      "text/html": "<div>\n<style scoped>\n    .dataframe tbody tr th:only-of-type {\n        vertical-align: middle;\n    }\n\n    .dataframe tbody tr th {\n        vertical-align: top;\n    }\n\n    .dataframe thead th {\n        text-align: right;\n    }\n</style>\n<table border=\"1\" class=\"dataframe\">\n  <thead>\n    <tr style=\"text-align: right;\">\n      <th></th>\n      <th>sepal length (cm)</th>\n      <th>petal length (cm)</th>\n      <th>target</th>\n    </tr>\n  </thead>\n  <tbody>\n    <tr>\n      <th>50</th>\n      <td>7.0</td>\n      <td>4.7</td>\n      <td>1</td>\n    </tr>\n    <tr>\n      <th>51</th>\n      <td>6.4</td>\n      <td>4.5</td>\n      <td>1</td>\n    </tr>\n    <tr>\n      <th>52</th>\n      <td>6.9</td>\n      <td>4.9</td>\n      <td>1</td>\n    </tr>\n    <tr>\n      <th>53</th>\n      <td>5.5</td>\n      <td>4.0</td>\n      <td>1</td>\n    </tr>\n    <tr>\n      <th>54</th>\n      <td>6.5</td>\n      <td>4.6</td>\n      <td>1</td>\n    </tr>\n    <tr>\n      <th>...</th>\n      <td>...</td>\n      <td>...</td>\n      <td>...</td>\n    </tr>\n    <tr>\n      <th>145</th>\n      <td>6.7</td>\n      <td>5.2</td>\n      <td>2</td>\n    </tr>\n    <tr>\n      <th>146</th>\n      <td>6.3</td>\n      <td>5.0</td>\n      <td>2</td>\n    </tr>\n    <tr>\n      <th>147</th>\n      <td>6.5</td>\n      <td>5.2</td>\n      <td>2</td>\n    </tr>\n    <tr>\n      <th>148</th>\n      <td>6.2</td>\n      <td>5.4</td>\n      <td>2</td>\n    </tr>\n    <tr>\n      <th>149</th>\n      <td>5.9</td>\n      <td>5.1</td>\n      <td>2</td>\n    </tr>\n  </tbody>\n</table>\n<p>100 rows × 3 columns</p>\n</div>"
     },
     "execution_count": 4,
     "metadata": {},
     "output_type": "execute_result"
    }
   ],
   "source": [
    "from sklearn.datasets import load_iris\n",
    "import pandas as pd\n",
    "from sklearn.utils import Bunch\n",
    "\n",
    "iris_data: Bunch = load_iris(as_frame=True)\n",
    "iris_df: pd.DataFrame = iris_data.frame\n",
    "\n",
    "filtered_dataset =  iris_df[['sepal length (cm)', 'petal length (cm)', 'target']].copy()\n",
    "filtered_dataset = filtered_dataset[filtered_dataset['target'] != 0]\n",
    "filtered_dataset\n",
    "# print(iris_data.feature_names)\n",
    "# iris_data.frame['sepal length (cm)', 'petal length (cm)']\n",
    "\n",
    "# all_features = pd.DataFrame(iris_data.data, columns=[\"sepal_length\",\"sepal_width\",\"petal_length\",\"petal_width\"])\n",
    "# all_species = pd.DataFrame(iris_data.target, columns=[\"species\"])\n",
    "# \n",
    "# all_species\n",
    "\n"
   ],
   "metadata": {
    "collapsed": false,
    "ExecuteTime": {
     "end_time": "2024-02-21T09:41:54.064985900Z",
     "start_time": "2024-02-21T09:41:54.002500500Z"
    }
   },
   "id": "38cfc81572096073"
  },
  {
   "cell_type": "markdown",
   "source": [
    "### Problem 2: Data analysis"
   ],
   "metadata": {
    "collapsed": false
   },
   "id": "7171f715b0282aa0"
  },
  {
   "cell_type": "markdown",
   "source": [
    "### Problem 3: Division of preprocessing/training data and verification data"
   ],
   "metadata": {
    "collapsed": false
   },
   "id": "63eadf361b16670d"
  },
  {
   "cell_type": "markdown",
   "source": [
    "### Problem 4: Pretreatment/Standardization"
   ],
   "metadata": {
    "collapsed": false
   },
   "id": "6bd638d19d16532"
  },
  {
   "cell_type": "markdown",
   "source": [
    "### Problem 5: Learning and estimation"
   ],
   "metadata": {
    "collapsed": false
   },
   "id": "f3f44e0dcfe672d0"
  },
  {
   "cell_type": "markdown",
   "source": [
    "### Problem 6: Evaluation"
   ],
   "metadata": {
    "collapsed": false
   },
   "id": "9a9f0d9d2eb39522"
  },
  {
   "cell_type": "markdown",
   "source": [
    "### Problem 7: Visualization"
   ],
   "metadata": {
    "collapsed": false
   },
   "id": "941cc47c83f74027"
  },
  {
   "cell_type": "markdown",
   "source": [
    "### Problem 8: Learning by other methods"
   ],
   "metadata": {
    "collapsed": false
   },
   "id": "c0ff8aabf4927e7"
  },
  {
   "cell_type": "markdown",
   "source": [
    "### Problem 9: (Advanced)"
   ],
   "metadata": {
    "collapsed": false
   },
   "id": "78439f49e4d87c76"
  },
  {
   "cell_type": "markdown",
   "source": [
    "### Problem 10: (Advanced)"
   ],
   "metadata": {
    "collapsed": false
   },
   "id": "2785416b34e35fbc"
  }
 ],
 "metadata": {
  "kernelspec": {
   "display_name": "Python 3",
   "language": "python",
   "name": "python3"
  },
  "language_info": {
   "codemirror_mode": {
    "name": "ipython",
    "version": 2
   },
   "file_extension": ".py",
   "mimetype": "text/x-python",
   "name": "python",
   "nbconvert_exporter": "python",
   "pygments_lexer": "ipython2",
   "version": "2.7.6"
  }
 },
 "nbformat": 4,
 "nbformat_minor": 5
}
