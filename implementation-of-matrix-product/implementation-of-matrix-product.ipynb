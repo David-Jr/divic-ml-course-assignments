{
 "cells": [
  {
   "cell_type": "markdown",
   "source": [
    "## Implementation of Matrix Product"
   ],
   "metadata": {
    "collapsed": false
   },
   "id": "65a09b7792f1a8f"
  },
  {
   "cell_type": "markdown",
   "source": [
    "### Problem 1: Matrix product by hand"
   ],
   "metadata": {
    "collapsed": false
   },
   "id": "3f1fc9cc6f1122ae"
  },
  {
   "metadata": {},
   "cell_type": "markdown",
   "source": "<img src=\"problem_1.png\">",
   "id": "b422e9dd2c150466"
  },
  {
   "metadata": {},
   "cell_type": "markdown",
   "source": "### Problem 2: Calculation by NumPy function",
   "id": "23612160f73c40d6"
  },
  {
   "metadata": {
    "ExecuteTime": {
     "end_time": "2024-07-24T19:14:45.729877Z",
     "start_time": "2024-07-24T19:14:45.704429Z"
    }
   },
   "cell_type": "code",
   "source": [
    "import numpy as np\n",
    "a_ndarray = np.array([[-1, 2, 3], [4, -5, 6], [7, 8, -9]])\n",
    "b_ndarray = np.array([[0, 2, 1], [0, 2, -8], [2, 9, -1]])\n",
    "\n",
    "ab_ndarray = np.matmul(a_ndarray,b_ndarray)\n",
    "\n",
    "ab_ndarray"
   ],
   "id": "54bfc52f82b34708",
   "outputs": [
    {
     "data": {
      "text/plain": [
       "array([[  6,  29, -20],\n",
       "       [ 12,  52,  38],\n",
       "       [-18, -51, -48]])"
      ]
     },
     "execution_count": 5,
     "metadata": {},
     "output_type": "execute_result"
    }
   ],
   "execution_count": 5
  },
  {
   "metadata": {},
   "cell_type": "markdown",
   "source": "### Problem 3: Implementation of calculation of a certain element",
   "id": "6bfb8ada406f422f"
  },
  {
   "metadata": {
    "ExecuteTime": {
     "end_time": "2024-07-24T19:14:45.760794Z",
     "start_time": "2024-07-24T19:14:45.742844Z"
    }
   },
   "cell_type": "code",
   "source": [
    "from typing import Any\n",
    "from numpy import ndarray, dtype\n",
    "\n",
    "\n",
    "def product_of_matrix(a: ndarray[Any, dtype], b: ndarray[Any, dtype]):\n",
    "    _ab_ndarray = np.empty([3, 3])\n",
    "    for row in range(a.shape[0]):\n",
    "        for column in range(b.shape[1]):\n",
    "            _ab_ndarray[row][column] = sum(a[row, :] * b[:, column])\n",
    "    return _ab_ndarray\n",
    "\n",
    "product_of_matrix(a_ndarray, b_ndarray)"
   ],
   "id": "8054f2d3cfa57e3c",
   "outputs": [
    {
     "data": {
      "text/plain": [
       "array([[  6.,  29., -20.],\n",
       "       [ 12.,  52.,  38.],\n",
       "       [-18., -51., -48.]])"
      ]
     },
     "execution_count": 6,
     "metadata": {},
     "output_type": "execute_result"
    }
   ],
   "execution_count": 6
  }
 ],
 "metadata": {
  "kernelspec": {
   "display_name": "Python 3",
   "language": "python",
   "name": "python3"
  },
  "language_info": {
   "codemirror_mode": {
    "name": "ipython",
    "version": 2
   },
   "file_extension": ".py",
   "mimetype": "text/x-python",
   "name": "python",
   "nbconvert_exporter": "python",
   "pygments_lexer": "ipython2",
   "version": "2.7.6"
  }
 },
 "nbformat": 4,
 "nbformat_minor": 5
}
