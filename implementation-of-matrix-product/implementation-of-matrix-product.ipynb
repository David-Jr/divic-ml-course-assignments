{
 "cells": [
  {
   "cell_type": "markdown",
   "source": [
    "## Implementation of Matrix Product"
   ],
   "metadata": {
    "collapsed": false
   },
   "id": "65a09b7792f1a8f"
  },
  {
   "cell_type": "markdown",
   "source": [
    "### Problem 1: Matrix product by hand"
   ],
   "metadata": {
    "collapsed": false
   },
   "id": "3f1fc9cc6f1122ae"
  },
  {
   "cell_type": "code",
   "execution_count": 70,
   "id": "initial_id",
   "metadata": {
    "collapsed": true,
    "ExecuteTime": {
     "end_time": "2023-11-14T15:39:38.599799500Z",
     "start_time": "2023-11-14T15:39:38.561327500Z"
    }
   },
   "outputs": [
    {
     "name": "stdout",
     "output_type": "stream",
     "text": [
      "[[  6.  29. -20.]\n",
      " [ 12.  52.  38.]\n",
      " [ 18. 111. -66.]]\n"
     ]
    }
   ],
   "source": [
    "import numpy as np\n",
    "\n",
    "a_ndarray = np.array([[-1, 2, 3], \n",
    "                      [4, -5, 6], \n",
    "                      [7,  8, 9]])\n",
    "\n",
    "b_ndarray = np.array([[0, 2,  1], \n",
    "                      [0, 2, -8], \n",
    "                      [2, 9, -1]])\n",
    "\n",
    "# a_ndarray = np.array([['a', 'b', 'c'], \n",
    "#                       ['d', 'e', 'f'], \n",
    "#                       ['g', 'h', 'i']])\n",
    "# \n",
    "# b_ndarray = np.array([['j', 'k', 'l'], \n",
    "#                       ['m', 'n', 'o'], \n",
    "#                       ['p', 'k', 'r']])\n",
    "\n",
    "result = np.array([])\n",
    "\n",
    "aux: np.ndarray = np.array([])\n",
    "for i in range(len(a_ndarray)):\n",
    "    for j in range(len(b_ndarray[0])):\n",
    "        cell_result = 0\n",
    "        for k in range(len(b_ndarray)):\n",
    "            # aux = np.append(aux, a_ndarray[i][k] * b_ndarray[k][j])\n",
    "            # cell_result += f\"{a_ndarray[i][k]}{b_ndarray[k][j]} \"\n",
    "            cell_result += a_ndarray[i][k] * b_ndarray[k][j]\n",
    "            # print(f\"{a_ndarray[i][k]} * {b_ndarray[k][j]}\")\n",
    "            # result = np.append(result, cell_result)\n",
    "        # print(cell_result)\n",
    "        # aux = np.append(aux, cell_result)\n",
    "        result = np.append(result, cell_result)\n",
    "        # aux = np.array([])\n",
    "    # print(aux)\n",
    "    # print(\"==========\")\n",
    "print(result.reshape((3, 3)))"
   ]
  }
 ],
 "metadata": {
  "kernelspec": {
   "display_name": "Python 3",
   "language": "python",
   "name": "python3"
  },
  "language_info": {
   "codemirror_mode": {
    "name": "ipython",
    "version": 2
   },
   "file_extension": ".py",
   "mimetype": "text/x-python",
   "name": "python",
   "nbconvert_exporter": "python",
   "pygments_lexer": "ipython2",
   "version": "2.7.6"
  }
 },
 "nbformat": 4,
 "nbformat_minor": 5
}
