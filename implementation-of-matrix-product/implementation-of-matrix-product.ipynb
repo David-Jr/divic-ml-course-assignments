{
 "cells": [
  {
   "cell_type": "markdown",
   "source": [
    "## Implementation of Matrix Product"
   ],
   "metadata": {
    "collapsed": false
   },
   "id": "65a09b7792f1a8f"
  },
  {
   "cell_type": "markdown",
   "source": [
    "### Problem 1: Matrix product by hand"
   ],
   "metadata": {
    "collapsed": false
   },
   "id": "3f1fc9cc6f1122ae"
  },
  {
   "cell_type": "code",
   "execution_count": 72,
   "id": "initial_id",
   "metadata": {
    "collapsed": true,
    "ExecuteTime": {
     "end_time": "2023-11-14T15:47:32.830273800Z",
     "start_time": "2023-11-14T15:47:32.779402500Z"
    }
   },
   "outputs": [
    {
     "name": "stdout",
     "output_type": "stream",
     "text": [
      "[[  6.  29. -20.]\n",
      " [ 12.  52.  38.]\n",
      " [ 18. 111. -66.]]\n"
     ]
    }
   ],
   "source": [
    "import numpy as np\n",
    "from numpy import ndarray\n",
    "\n",
    "a_ndarray = np.array([[-1, 2, 3], \n",
    "                      [4, -5, 6], \n",
    "                      [7,  8, 9]])\n",
    "\n",
    "b_ndarray = np.array([[0, 2,  1], \n",
    "                      [0, 2, -8], \n",
    "                      [2, 9, -1]])\n",
    "\n",
    "def multiply_matrices(_matrix1: ndarray, _matrix2: ndarray) -> ndarray:\n",
    "    _result = np.array([])\n",
    "    for i in range(len(_matrix1)):\n",
    "        for j in range(len(_matrix2[0])):\n",
    "            cell_result = 0\n",
    "            for k in range(len(_matrix2)):\n",
    "                cell_result += _matrix1[i][k] * _matrix2[k][j]\n",
    "            _result = np.append(_result, cell_result)\n",
    "    return _result.reshape(_matrix1.shape)\n",
    "\n",
    "print(multiply_matrices(a_ndarray, b_ndarray))"
   ]
  }
 ],
 "metadata": {
  "kernelspec": {
   "display_name": "Python 3",
   "language": "python",
   "name": "python3"
  },
  "language_info": {
   "codemirror_mode": {
    "name": "ipython",
    "version": 2
   },
   "file_extension": ".py",
   "mimetype": "text/x-python",
   "name": "python",
   "nbconvert_exporter": "python",
   "pygments_lexer": "ipython2",
   "version": "2.7.6"
  }
 },
 "nbformat": 4,
 "nbformat_minor": 5
}
