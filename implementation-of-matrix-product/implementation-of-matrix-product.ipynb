{
 "cells": [
  {
   "cell_type": "markdown",
   "source": [
    "## Implementation of Matrix Product"
   ],
   "metadata": {
    "collapsed": false
   },
   "id": "65a09b7792f1a8f"
  },
  {
   "cell_type": "markdown",
   "source": [
    "### Problem 1: Matrix product by hand"
   ],
   "metadata": {
    "collapsed": false
   },
   "id": "3f1fc9cc6f1122ae"
  },
  {
   "metadata": {},
   "cell_type": "markdown",
   "source": "<img src=\"problem_1.png\">",
   "id": "b422e9dd2c150466"
  },
  {
   "metadata": {},
   "cell_type": "markdown",
   "source": "### Problem 2: Calculation by NumPy function",
   "id": "23612160f73c40d6"
  },
  {
   "metadata": {
    "ExecuteTime": {
     "end_time": "2024-07-24T19:57:10.866864Z",
     "start_time": "2024-07-24T19:57:10.854897Z"
    }
   },
   "cell_type": "code",
   "source": [
    "import numpy as np\n",
    "a_ndarray = np.array([[-1, 2, 3], [4, -5, 6], [7, 8, -9]])\n",
    "b_ndarray = np.array([[0, 2, 1], [0, 2, -8], [2, 9, -1]])\n",
    "\n",
    "ab_ndarray = np.matmul(a_ndarray,b_ndarray)\n",
    "\n",
    "ab_ndarray"
   ],
   "id": "54bfc52f82b34708",
   "outputs": [
    {
     "data": {
      "text/plain": [
       "array([[  6,  29, -20],\n",
       "       [ 12,  52,  38],\n",
       "       [-18, -51, -48]])"
      ]
     },
     "execution_count": 18,
     "metadata": {},
     "output_type": "execute_result"
    }
   ],
   "execution_count": 18
  },
  {
   "metadata": {},
   "cell_type": "markdown",
   "source": "### Problem 3: Implementation of calculation of a certain element",
   "id": "6bfb8ada406f422f"
  },
  {
   "metadata": {
    "ExecuteTime": {
     "end_time": "2024-07-24T19:57:10.928702Z",
     "start_time": "2024-07-24T19:57:10.914738Z"
    }
   },
   "cell_type": "code",
   "source": [
    "result = 0\n",
    "for k in range(3):\n",
    "    result += a_ndarray[0, k] * b_ndarray[k, 0]\n",
    "\n",
    "print(result)\n"
   ],
   "id": "8054f2d3cfa57e3c",
   "outputs": [
    {
     "name": "stdout",
     "output_type": "stream",
     "text": [
      "6\n"
     ]
    }
   ],
   "execution_count": 19
  },
  {
   "metadata": {},
   "cell_type": "markdown",
   "source": "### Problem 4: Creating a function that performs matrix multiplication",
   "id": "b300bb441f2da5bb"
  },
  {
   "metadata": {
    "ExecuteTime": {
     "end_time": "2024-07-24T19:57:10.960141Z",
     "start_time": "2024-07-24T19:57:10.944184Z"
    }
   },
   "cell_type": "code",
   "source": [
    "from typing import Any\n",
    "from numpy import ndarray, dtype\n",
    "\n",
    "\n",
    "def compute_product(a: ndarray[Any, dtype], b: ndarray[Any, dtype]):\n",
    "    _ab_ndarray = np.empty([3, 3])\n",
    "    for row in range(a.shape[0]):\n",
    "        for column in range(b.shape[1]):\n",
    "            _ab_ndarray[row][column] = sum(a[row, :] * b[:, column])\n",
    "    return _ab_ndarray\n",
    "\n",
    "compute_product(a_ndarray, b_ndarray)"
   ],
   "id": "f5011b81edd52a29",
   "outputs": [
    {
     "data": {
      "text/plain": [
       "array([[  6.,  29., -20.],\n",
       "       [ 12.,  52.,  38.],\n",
       "       [-18., -51., -48.]])"
      ]
     },
     "execution_count": 20,
     "metadata": {},
     "output_type": "execute_result"
    }
   ],
   "execution_count": 20
  },
  {
   "metadata": {},
   "cell_type": "markdown",
   "source": "### Problem 5: Judge the input whose calculation is not defined",
   "id": "f8017d42a4e4d64d"
  },
  {
   "metadata": {
    "ExecuteTime": {
     "end_time": "2024-07-24T19:57:11.056406Z",
     "start_time": "2024-07-24T19:57:11.021975Z"
    }
   },
   "cell_type": "code",
   "source": [
    "d_ndarray = np.array([[-1, 2, 3], [4, -5, 6]])\n",
    "e_ndarray = np.array([[-9, 8, 7], [6, -5, 4]])\n",
    "\n",
    "if d_ndarray.shape[1] != e_ndarray.shape[0]:\n",
    "    print(\"Error: The number of columns in matrix D must equal the number of rows in matrix E.\")\n",
    "else:\n",
    "    compute_product(d_ndarray, e_ndarray)"
   ],
   "id": "9e973185ff7e9d82",
   "outputs": [
    {
     "name": "stdout",
     "output_type": "stream",
     "text": [
      "Error: The number of columns in matrix D must equal the number of rows in matrix E.\n"
     ]
    }
   ],
   "execution_count": 21
  },
  {
   "metadata": {},
   "cell_type": "markdown",
   "source": "### Problem 6: Transposition",
   "id": "6b674b1faa47aa43"
  },
  {
   "metadata": {
    "ExecuteTime": {
     "end_time": "2024-07-24T20:01:51.756498Z",
     "start_time": "2024-07-24T20:01:51.742011Z"
    }
   },
   "cell_type": "code",
   "source": [
    "ab_ndarray_transposed = np.transpose(compute_product(a_ndarray, b_ndarray))\n",
    "ab_ndarray_transposed"
   ],
   "id": "75d4d1c28d418ec2",
   "outputs": [
    {
     "data": {
      "text/plain": [
       "array([[  6.,  12., -18.],\n",
       "       [ 29.,  52., -51.],\n",
       "       [-20.,  38., -48.]])"
      ]
     },
     "execution_count": 28,
     "metadata": {},
     "output_type": "execute_result"
    }
   ],
   "execution_count": 28
  }
 ],
 "metadata": {
  "kernelspec": {
   "display_name": "Python 3",
   "language": "python",
   "name": "python3"
  },
  "language_info": {
   "codemirror_mode": {
    "name": "ipython",
    "version": 2
   },
   "file_extension": ".py",
   "mimetype": "text/x-python",
   "name": "python",
   "nbconvert_exporter": "python",
   "pygments_lexer": "ipython2",
   "version": "2.7.6"
  }
 },
 "nbformat": 4,
 "nbformat_minor": 5
}
