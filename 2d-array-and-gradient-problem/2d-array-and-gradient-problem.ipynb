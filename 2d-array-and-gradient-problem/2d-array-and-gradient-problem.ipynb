{
 "cells": [
  {
   "cell_type": "markdown",
   "id": "ea3d12dd42ad6d9d",
   "metadata": {
    "collapsed": false
   },
   "source": [
    "## Two-dimensional array and gradient problem"
   ]
  },
  {
   "cell_type": "markdown",
   "id": "c8ab6ce03843efa4",
   "metadata": {
    "collapsed": false
   },
   "source": [
    "### Problem 1: Linear function"
   ]
  },
  {
   "cell_type": "code",
   "execution_count": 18,
   "id": "initial_id",
   "metadata": {
    "collapsed": true,
    "ExecuteTime": {
     "end_time": "2023-10-26T19:50:11.293075700Z",
     "start_time": "2023-10-26T19:50:11.147841900Z"
    }
   },
   "outputs": [
    {
     "name": "stdout",
     "output_type": "stream",
     "text": [
      "First 10: [  1.   -24.   -23.95 -23.9  -23.85 -23.8  -23.75 -23.7  -23.65 -23.6 ]\n",
      "Last 10: [25.5  25.55 25.6  25.65 25.7  25.75 25.8  25.85 25.9 ]\n"
     ]
    }
   ],
   "source": [
    "import numpy as np\n",
    "\n",
    "x_values = np.array([0])\n",
    "x_values = np.append(x_values, np.arange(-50, 50, 0.1))\n",
    "x_values = (x_values/2) + 1\n",
    "\n",
    "# print(x_values)\n",
    "print(f\"First 10: {x_values[0:10]}\")\n",
    "print(f\"Last 10: {x_values[-10:-1]}\")"
   ]
  },
  {
   "cell_type": "markdown",
   "id": "3212f912bf7d7176",
   "metadata": {
    "collapsed": false
   },
   "source": [
    "#### Problem 2: Array combination"
   ]
  },
  {
   "cell_type": "code",
   "execution_count": 19,
   "id": "8d9c8e14ca99b064",
   "metadata": {
    "collapsed": false,
    "ExecuteTime": {
     "end_time": "2023-10-26T19:50:11.338953600Z",
     "start_time": "2023-10-26T19:50:11.182915900Z"
    }
   },
   "outputs": [
    {
     "name": "stdout",
     "output_type": "stream",
     "text": [
      "1001\n"
     ]
    }
   ],
   "source": [
    "y_values = np.ones(len(x_values))\n",
    "print(len(y_values))\n",
    "#TODO: This assignment is unfinished"
   ]
  }
 ],
 "metadata": {
  "kernelspec": {
   "display_name": "Python 3",
   "language": "python",
   "name": "python3"
  },
  "language_info": {
   "codemirror_mode": {
    "name": "ipython",
    "version": 2
   },
   "file_extension": ".py",
   "mimetype": "text/x-python",
   "name": "python",
   "nbconvert_exporter": "python",
   "pygments_lexer": "ipython2",
   "version": "2.7.6"
  }
 },
 "nbformat": 4,
 "nbformat_minor": 5
}
