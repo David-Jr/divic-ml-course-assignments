{
 "cells": [
  {
   "cell_type": "markdown",
   "id": "ea3d12dd42ad6d9d",
   "metadata": {
    "collapsed": false
   },
   "source": [
    "## Two-dimensional array and gradient problem"
   ]
  },
  {
   "cell_type": "markdown",
   "id": "c8ab6ce03843efa4",
   "metadata": {
    "collapsed": false
   },
   "source": [
    "### Problem 1: Linear function"
   ]
  },
  {
   "cell_type": "code",
   "execution_count": 15,
   "id": "initial_id",
   "metadata": {
    "collapsed": true,
    "ExecuteTime": {
     "end_time": "2023-11-15T11:53:30.641531400Z",
     "start_time": "2023-11-15T11:53:30.550773200Z"
    }
   },
   "outputs": [
    {
     "name": "stdout",
     "output_type": "stream",
     "text": [
      "First 10: [-24.   -23.95 -23.9  -23.85 -23.8  -23.75 -23.7  -23.65 -23.6  -23.55]\n",
      "Last 10: [25.55 25.6  25.65 25.7  25.75 25.8  25.85 25.9  25.95]\n"
     ]
    }
   ],
   "source": [
    "import numpy as np\n",
    "from numpy import ndarray\n",
    "import matplotlib.pyplot as plt\n",
    "\n",
    "x_values: ndarray = np.arange(-50, 50.1, 0.1)\n",
    "y_values: ndarray = (x_values/2) + 1\n",
    "\n",
    "# print(x_values)\n",
    "print(f\"First 10: {y_values[0:10]}\")\n",
    "print(f\"Last 10: {y_values[-10:-1]}\")"
   ]
  },
  {
   "cell_type": "markdown",
   "id": "3212f912bf7d7176",
   "metadata": {
    "collapsed": false
   },
   "source": [
    "#### Problem 2: Array combination"
   ]
  },
  {
   "cell_type": "code",
   "execution_count": 16,
   "id": "8d9c8e14ca99b064",
   "metadata": {
    "collapsed": false,
    "ExecuteTime": {
     "end_time": "2023-11-15T11:53:30.643526200Z",
     "start_time": "2023-11-15T11:53:30.585682200Z"
    }
   },
   "outputs": [],
   "source": [
    "combined_array: ndarray = np.concatenate((x_values, y_values))\n",
    "combined_array = combined_array.reshape(1001, 2)"
   ]
  },
  {
   "cell_type": "markdown",
   "source": [
    "### Problem 3: Find the gradient"
   ],
   "metadata": {
    "collapsed": false
   },
   "id": "31d987f9db1b693c"
  },
  {
   "cell_type": "code",
   "execution_count": 17,
   "outputs": [],
   "source": [
    "x_amount_of_change = x_values[1:] - x_values[:-1]\n",
    "y_amount_of_change = y_values[1:] - y_values[:-1]\n",
    "\n",
    "gradient = y_amount_of_change / x_amount_of_change\n"
   ],
   "metadata": {
    "collapsed": false,
    "ExecuteTime": {
     "end_time": "2023-11-15T11:53:30.644523900Z",
     "start_time": "2023-11-15T11:53:30.597648500Z"
    }
   },
   "id": "ff1d0be79a328d21"
  },
  {
   "cell_type": "markdown",
   "source": [
    "### Problem 4: Draw a graph"
   ],
   "metadata": {
    "collapsed": false
   },
   "id": "f70b02957f77d2cf"
  },
  {
   "cell_type": "code",
   "execution_count": 18,
   "outputs": [
    {
     "data": {
      "text/plain": "<Figure size 640x480 with 1 Axes>",
      "image/png": "[encoded data removed]"
     },
     "metadata": {},
     "output_type": "display_data"
    }
   ],
   "source": [
    "plt.title(\"Linear Function\")\n",
    "plt.plot(x_values[:-1], gradient)\n",
    "plt.xlim(-50, 50)\n",
    "plt.show()"
   ],
   "metadata": {
    "collapsed": false,
    "ExecuteTime": {
     "end_time": "2023-11-15T11:53:30.906821400Z",
     "start_time": "2023-11-15T11:53:30.632555Z"
    }
   },
   "id": "92ea091c2d0fd3e7"
  },
  {
   "cell_type": "markdown",
   "source": [
    "###  Problem 5: Python functionalization"
   ],
   "metadata": {
    "collapsed": false
   },
   "id": "72c171634fb8cf0a"
  },
  {
   "cell_type": "code",
   "execution_count": null,
   "outputs": [],
   "source": [
    "def compute_gradient(function, x_range=(-50, 50.1, 0.1)):\n",
    "    \"\"\"\n",
    "    Calculate the gradient using the amount of change.\n",
    "\n",
    "    Parameters\n",
    "    ----------------\n",
    "    function : function\n",
    "      The function you want to find, the one that returns the ndarray of y when you put the ndarray of x.\n",
    "    x_range : tuple\n",
    "      Specify the range in the same way as the argument of np.arange ().\n",
    "\n",
    "    Returns\n",
    "    ----------------\n",
    "    array_xy : ndarray, shape(n, 2)\n",
    "      A combination of x and y. n depends on x_range.\n",
    "    gradient : ndarray, shape(n-1,)\n",
    "      Function gradient. One factor is reduced to make a difference\n",
    "    \"\"\"\n",
    "    pass\n",
    "    return array_xy, gradient\n",
    "def function1(array_x):\n",
    "    pass\n",
    "    return array_y\n",
    "\n",
    "array_xy, gradient = compute_gradient(function1)"
   ],
   "metadata": {
    "collapsed": false
   },
   "id": "f197bd547054db2f"
  }
 ],
 "metadata": {
  "kernelspec": {
   "display_name": "Python 3",
   "language": "python",
   "name": "python3"
  },
  "language_info": {
   "codemirror_mode": {
    "name": "ipython",
    "version": 2
   },
   "file_extension": ".py",
   "mimetype": "text/x-python",
   "name": "python",
   "nbconvert_exporter": "python",
   "pygments_lexer": "ipython2",
   "version": "2.7.6"
  }
 },
 "nbformat": 4,
 "nbformat_minor": 5
}
