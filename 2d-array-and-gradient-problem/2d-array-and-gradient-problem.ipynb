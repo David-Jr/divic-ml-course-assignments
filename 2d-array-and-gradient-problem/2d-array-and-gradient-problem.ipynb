{
 "cells": [
  {
   "cell_type": "markdown",
   "id": "ea3d12dd42ad6d9d",
   "metadata": {
    "collapsed": false
   },
   "source": [
    "## Two-dimensional array and gradient problem"
   ]
  },
  {
   "cell_type": "markdown",
   "id": "c8ab6ce03843efa4",
   "metadata": {
    "collapsed": false
   },
   "source": [
    "### Problem 1: Linear function"
   ]
  },
  {
   "cell_type": "code",
   "execution_count": 14,
   "id": "initial_id",
   "metadata": {
    "collapsed": true,
    "ExecuteTime": {
     "end_time": "2023-10-26T19:39:50.760368200Z",
     "start_time": "2023-10-26T19:39:50.735720200Z"
    }
   },
   "outputs": [
    {
     "name": "stdout",
     "output_type": "stream",
     "text": [
      "First 10: [-24.   -23.95 -23.9  -23.85 -23.8  -23.75 -23.7  -23.65 -23.6  -23.55]\n",
      "Last 10: [25.5  25.55 25.6  25.65 25.7  25.75 25.8  25.85 25.9 ]\n"
     ]
    }
   ],
   "source": [
    "import numpy as np\n",
    "\n",
    "linear = np.arange(-50, 50, 0.1)\n",
    "linear = (linear/2) + 1\n",
    "\n",
    "# print(linear)\n",
    "print(f\"First 10: {linear[0:10]}\")\n",
    "print(f\"Last 10: {linear[-10:-1]}\")"
   ]
  }
 ],
 "metadata": {
  "kernelspec": {
   "display_name": "Python 3",
   "language": "python",
   "name": "python3"
  },
  "language_info": {
   "codemirror_mode": {
    "name": "ipython",
    "version": 2
   },
   "file_extension": ".py",
   "mimetype": "text/x-python",
   "name": "python",
   "nbconvert_exporter": "python",
   "pygments_lexer": "ipython2",
   "version": "2.7.6"
  }
 },
 "nbformat": 4,
 "nbformat_minor": 5
}
