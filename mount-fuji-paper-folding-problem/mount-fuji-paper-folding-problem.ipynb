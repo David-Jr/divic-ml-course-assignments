{
 "cells": [
  {
   "cell_type": "markdown",
   "source": [
    "## Mt. Fuji paper folding problem"
   ],
   "metadata": {
    "collapsed": false
   },
   "id": "3d6d2fe1870f8df8"
  },
  {
   "cell_type": "markdown",
   "source": [
    "### Problem 1: How many times to fold paper to exceed the height of Mt.Fuji?"
   ],
   "metadata": {
    "collapsed": false
   },
   "id": "d980af47d811a1d0"
  },
  {
   "cell_type": "code",
   "execution_count": 15,
   "outputs": [
    {
     "name": "stdout",
     "output_type": "stream",
     "text": [
      "The paper has to folded at least 25.49228352379865 times to exceed Mt. Fuji height.\n"
     ]
    }
   ],
   "source": [
    "import numpy as np\n",
    "\n",
    "paper_thickness: float = 0.00008\n",
    "fuji_height: float = 3776\n",
    "\n",
    "n_folded = np.log2(fuji_height / paper_thickness)\n",
    "\n",
    "print(f\"The paper has to folded at least {n_folded} times to exceed Mt. Fuji height.\")"
   ],
   "metadata": {
    "collapsed": false,
    "ExecuteTime": {
     "end_time": "2023-10-26T17:57:50.860858500Z",
     "start_time": "2023-10-26T17:57:50.781072Z"
    }
   },
   "id": "initial_id"
  },
  {
   "cell_type": "markdown",
   "source": [
    "### Problem 2: Function corresponding to arbitrary thickness"
   ],
   "metadata": {
    "collapsed": false
   },
   "id": "96bcd3538accc41f"
  },
  {
   "cell_type": "code",
   "execution_count": 16,
   "outputs": [
    {
     "name": "stdout",
     "output_type": "stream",
     "text": [
      "Getting to Proxima Centauri will require folding 68.44485990486791 times a 0.0001m thick paper.\n"
     ]
    }
   ],
   "source": [
    "def compute_number_of_folds(_thickness: float, _height: float) -> float:\n",
    "    return np.log2(_height / _thickness)\n",
    "\n",
    "proxima_centauri_distance = np.float32(4.0175e16)\n",
    "paper_thickness = eval(input(\"Enter the thickness of the paper: \"))\n",
    "result = compute_number_of_folds(paper_thickness, proxima_centauri_distance)\n",
    "\n",
    "print(f\"Getting to Proxima Centauri will require folding {result} times a {paper_thickness}m thick paper.\")"
   ],
   "metadata": {
    "collapsed": false,
    "ExecuteTime": {
     "end_time": "2023-10-26T17:57:58.959848500Z",
     "start_time": "2023-10-26T17:57:50.815980Z"
    }
   },
   "id": "5598e1d5207d4dcc"
  },
  {
   "cell_type": "markdown",
   "source": [
    "### Problem 3: Required paper length"
   ],
   "metadata": {
    "collapsed": false
   },
   "id": "52528f2052c7c590"
  },
  {
   "cell_type": "code",
   "execution_count": 17,
   "outputs": [
    {
     "name": "stdout",
     "output_type": "stream",
     "text": [
      "Length of paper in meters to get\n",
      "- to Proxima Centauri: 68.44485990486791\n",
      "- to the Moon: 41.80574547476001\n",
      "- to Mount Fuji: 25.17035542891129\n"
     ]
    }
   ],
   "source": [
    "n_folds_centauri = compute_number_of_folds(paper_thickness, proxima_centauri_distance)\n",
    "n_folds_moon = compute_number_of_folds(paper_thickness, 384400000)\n",
    "n_folds_fuji = compute_number_of_folds(paper_thickness, fuji_height)\n",
    "\n",
    "length_centauri = ((np.pi * paper_thickness) / 6) * (np.power(2, n_folds_centauri) + 4) * (np.power(2, n_folds_centauri) - 1)\n",
    "length_moon = ((np.pi * paper_thickness) / 6) * (np.power(2, n_folds_moon) + 4) * (np.power(2, n_folds_moon) - 1)\n",
    "length_fuji = ((np.pi * paper_thickness) / 6) * (np.power(2, n_folds_fuji) + 4) * (np.power(2, n_folds_fuji) - 1)\n",
    "\n",
    "print(\"Length of paper in meters to get\")\n",
    "print(f\"- to Proxima Centauri: {n_folds_centauri}\")\n",
    "print(f\"- to the Moon: {n_folds_moon}\")\n",
    "print(f\"- to Mount Fuji: {n_folds_fuji}\")"
   ],
   "metadata": {
    "collapsed": false,
    "ExecuteTime": {
     "end_time": "2023-10-26T17:57:58.961843800Z",
     "start_time": "2023-10-26T17:57:58.916169600Z"
    }
   },
   "id": "b6e892f430b384d5"
  }
 ],
 "metadata": {
  "kernelspec": {
   "display_name": "Python 3",
   "language": "python",
   "name": "python3"
  },
  "language_info": {
   "codemirror_mode": {
    "name": "ipython",
    "version": 2
   },
   "file_extension": ".py",
   "mimetype": "text/x-python",
   "name": "python",
   "nbconvert_exporter": "python",
   "pygments_lexer": "ipython2",
   "version": "2.7.6"
  }
 },
 "nbformat": 4,
 "nbformat_minor": 5
}
