{
 "cells": [
  {
   "cell_type": "markdown",
   "metadata": {},
   "source": [
    "## Sorori Shinzaemon Problem\n",
    "\n",
    "### PROBLEM 1:\n",
    "- Grains of rice you receive in total on the 100th day;\n",
    "- Graph the increase of rice through the days."
   ]
  },
  {
   "cell_type": "markdown",
   "metadata": {},
   "source": [
    "### The number of grains in total on the 100th day"
   ]
  },
  {
   "cell_type": "code",
   "execution_count": 8,
   "metadata": {},
   "outputs": [
    {
     "name": "stdout",
     "output_type": "stream",
     "text": [
      "By the 100th day you receive 633825300114114700748351602688 grains of rice.\n"
     ]
    }
   ],
   "source": [
    "def compute_sorori_shinzaemon(n_days:int = 100) -> list:\n",
    "    list_n_grains: list = []\n",
    "    for i in range(n_days):\n",
    "        list_n_grains.append(2**i)\n",
    "    return list_n_grains\n",
    "\n",
    "print(f\"By the {len(compute_sorori_shinzaemon())}th day you receive {compute_sorori_shinzaemon()[-1]} grains of rice.\")\n"
   ]
  }
 ],
 "metadata": {
  "kernelspec": {
   "display_name": "Python 3",
   "language": "python",
   "name": "python3"
  },
  "language_info": {
   "codemirror_mode": {
    "name": "ipython",
    "version": 3
   },
   "file_extension": ".py",
   "mimetype": "text/x-python",
   "name": "python",
   "nbconvert_exporter": "python",
   "pygments_lexer": "ipython3",
   "version": "3.7.9"
  }
 },
 "nbformat": 4,
 "nbformat_minor": 2
}
