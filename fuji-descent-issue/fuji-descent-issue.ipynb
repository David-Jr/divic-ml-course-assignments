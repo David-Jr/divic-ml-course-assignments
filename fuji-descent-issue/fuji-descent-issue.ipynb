{
 "cells": [
  {
   "cell_type": "code",
   "execution_count": 1,
   "outputs": [],
   "source": [
    "import numpy as np\n",
    "\n",
    "csv_path = \"mtfuji_data.csv\" # Specify the file name (path)\n",
    "\n",
    "np.set_printoptions(suppress=True) # Set prohibition of scientific notation\n",
    "fuji = np.loadtxt(csv_path, delimiter=\",\", skiprows=1)"
   ],
   "metadata": {
    "collapsed": false,
    "ExecuteTime": {
     "end_time": "2023-10-26T19:59:33.521371600Z",
     "start_time": "2023-10-26T19:59:33.350284Z"
    }
   },
   "id": "cf4f711afcd66ec4"
  },
  {
   "cell_type": "code",
   "execution_count": 1,
   "outputs": [],
   "source": [],
   "metadata": {
    "collapsed": false,
    "ExecuteTime": {
     "end_time": "2023-10-26T19:59:33.535333900Z",
     "start_time": "2023-10-26T19:59:33.526359400Z"
    }
   },
   "id": "b1522ea0c9d40a6a"
  }
 ],
 "metadata": {
  "kernelspec": {
   "display_name": "Python 3",
   "language": "python",
   "name": "python3"
  },
  "language_info": {
   "codemirror_mode": {
    "name": "ipython",
    "version": 2
   },
   "file_extension": ".py",
   "mimetype": "text/x-python",
   "name": "python",
   "nbconvert_exporter": "python",
   "pygments_lexer": "ipython2",
   "version": "2.7.6"
  }
 },
 "nbformat": 4,
 "nbformat_minor": 5
}
