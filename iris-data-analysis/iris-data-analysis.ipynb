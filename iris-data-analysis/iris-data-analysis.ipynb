{
 "cells": [
  {
   "cell_type": "markdown",
   "source": [
    "## Iris ata analysis "
   ],
   "metadata": {
    "collapsed": false
   },
   "id": "60ecc71dc4263266"
  },
  {
   "cell_type": "markdown",
   "source": [
    "### Problem 1: Data acquisition"
   ],
   "metadata": {
    "collapsed": false
   },
   "id": "fc00bef912ce17e5"
  },
  {
   "cell_type": "code",
   "execution_count": 10,
   "id": "initial_id",
   "metadata": {
    "collapsed": true,
    "ExecuteTime": {
     "end_time": "2023-11-20T17:03:33.310824700Z",
     "start_time": "2023-11-20T17:03:33.272517900Z"
    }
   },
   "outputs": [
    {
     "name": "stdout",
     "output_type": "stream",
     "text": [
      "   sepal length (cm) sepal width (cm) petal length (cm) petal width (cm)  \\\n",
      "50               NaN              NaN               NaN              NaN   \n",
      "51               NaN              NaN               NaN              NaN   \n",
      "52               NaN              NaN               NaN              NaN   \n",
      "53               NaN              NaN               NaN              NaN   \n",
      "54               NaN              NaN               NaN              NaN   \n",
      "55               NaN              NaN               NaN              NaN   \n",
      "56               NaN              NaN               NaN              NaN   \n",
      "57               NaN              NaN               NaN              NaN   \n",
      "58               NaN              NaN               NaN              NaN   \n",
      "59               NaN              NaN               NaN              NaN   \n",
      "60               NaN              NaN               NaN              NaN   \n",
      "61               NaN              NaN               NaN              NaN   \n",
      "62               NaN              NaN               NaN              NaN   \n",
      "63               NaN              NaN               NaN              NaN   \n",
      "64               NaN              NaN               NaN              NaN   \n",
      "65               NaN              NaN               NaN              NaN   \n",
      "66               NaN              NaN               NaN              NaN   \n",
      "67               NaN              NaN               NaN              NaN   \n",
      "68               NaN              NaN               NaN              NaN   \n",
      "69               NaN              NaN               NaN              NaN   \n",
      "70               NaN              NaN               NaN              NaN   \n",
      "71               NaN              NaN               NaN              NaN   \n",
      "72               NaN              NaN               NaN              NaN   \n",
      "73               NaN              NaN               NaN              NaN   \n",
      "74               NaN              NaN               NaN              NaN   \n",
      "75               NaN              NaN               NaN              NaN   \n",
      "76               NaN              NaN               NaN              NaN   \n",
      "77               NaN              NaN               NaN              NaN   \n",
      "78               NaN              NaN               NaN              NaN   \n",
      "79               NaN              NaN               NaN              NaN   \n",
      "80               NaN              NaN               NaN              NaN   \n",
      "81               NaN              NaN               NaN              NaN   \n",
      "82               NaN              NaN               NaN              NaN   \n",
      "83               NaN              NaN               NaN              NaN   \n",
      "84               NaN              NaN               NaN              NaN   \n",
      "85               NaN              NaN               NaN              NaN   \n",
      "86               NaN              NaN               NaN              NaN   \n",
      "87               NaN              NaN               NaN              NaN   \n",
      "88               NaN              NaN               NaN              NaN   \n",
      "89               NaN              NaN               NaN              NaN   \n",
      "\n",
      "    target  \n",
      "50       1  \n",
      "51       1  \n",
      "52       1  \n",
      "53       1  \n",
      "54       1  \n",
      "55       1  \n",
      "56       1  \n",
      "57       1  \n",
      "58       1  \n",
      "59       1  \n",
      "60       1  \n",
      "61       1  \n",
      "62       1  \n",
      "63       1  \n",
      "64       1  \n",
      "65       1  \n",
      "66       1  \n",
      "67       1  \n",
      "68       1  \n",
      "69       1  \n",
      "70       1  \n",
      "71       1  \n",
      "72       1  \n",
      "73       1  \n",
      "74       1  \n",
      "75       1  \n",
      "76       1  \n",
      "77       1  \n",
      "78       1  \n",
      "79       1  \n",
      "80       1  \n",
      "81       1  \n",
      "82       1  \n",
      "83       1  \n",
      "84       1  \n",
      "85       1  \n",
      "86       1  \n",
      "87       1  \n",
      "88       1  \n",
      "89       1  \n"
     ]
    }
   ],
   "source": [
    "import warnings\n",
    "from sklearn.exceptions import DataConversionWarning\n",
    "warnings.filterwarnings(\"ignore\", category=FutureWarning)\n",
    "warnings.filterwarnings(\"ignore\", category=DeprecationWarning)\n",
    "warnings.filterwarnings(\"ignore\", category=DataConversionWarning)\n",
    "\n",
    "import pandas as pd\n",
    "from sklearn.datasets import load_iris\n",
    "\n",
    "iris_data = load_iris()\n",
    "iris_df = pd.DataFrame(data=iris_data, columns=iris_data.feature_names)\n",
    "# iris_df = pd.DataFrame(data=iris_data)\n",
    "iris_df['target'] = iris_data.target\n",
    "\n",
    "print(iris_df[50:90])\n"
   ]
  }
 ],
 "metadata": {
  "kernelspec": {
   "display_name": "Python 3",
   "language": "python",
   "name": "python3"
  },
  "language_info": {
   "codemirror_mode": {
    "name": "ipython",
    "version": 2
   },
   "file_extension": ".py",
   "mimetype": "text/x-python",
   "name": "python",
   "nbconvert_exporter": "python",
   "pygments_lexer": "ipython2",
   "version": "2.7.6"
  }
 },
 "nbformat": 4,
 "nbformat_minor": 5
}
