{
 "cells": [
  {
   "cell_type": "markdown",
   "metadata": {},
   "source": [
    "## Wheat and chess board problem\n"
   ]
  },
  {
   "cell_type": "markdown",
   "metadata": {},
   "source": [
    "#### Sample Code"
   ]
  },
  {
   "cell_type": "code",
   "execution_count": 10,
   "metadata": {},
   "outputs": [
    {
     "name": "stdout",
     "output_type": "stream",
     "text": [
      "Arrange wheat on a plate of 4 squares (list): [1, 2, 4, 8]\n",
      "Arrange wheat on a plate of 4 squares (ndarray): [1 2 4 8]\n"
     ]
    }
   ],
   "source": [
    "import numpy as np\n",
    "\n",
    "n_squares = 4\n",
    "small_board_list = [1]\n",
    "for _ in range(n_squares - 1):\n",
    "    small_board_list.append(2*small_board_list[-1])\n",
    "print(\"Arrange wheat on a plate of 4 squares (list): {}\".format(small_board_list))\n",
    "\n",
    "small_board_ndarray = np.array(small_board_list)\n",
    "print(\"Arrange wheat on a plate of 4 squares (ndarray): {}\".format(small_board_ndarray))"
   ]
  },
  {
   "cell_type": "markdown",
   "metadata": {},
   "source": [
    "### Problem 1: Number of wheat on a 2 x 2 square chess board\n"
   ]
  },
  {
   "cell_type": "code",
   "execution_count": 11,
   "metadata": {},
   "outputs": [
    {
     "name": "stdout",
     "output_type": "stream",
     "text": [
      "[[1 2]\n",
      " [4 8]]\n"
     ]
    }
   ],
   "source": [
    "from numpy import ndarray\n",
    "\n",
    "def reshape_ndarray_to(_new_shape: tuple, _ndarray: ndarray) -> ndarray:\n",
    "    return _ndarray.reshape(_new_shape)\n",
    "\n",
    "print(reshape_ndarray_to((2,2), small_board_ndarray))"
   ]
  },
  {
   "cell_type": "markdown",
   "metadata": {},
   "source": [
    "### Problem 2: Expansion to n × m mass"
   ]
  },
  {
   "cell_type": "code",
   "execution_count": 12,
   "metadata": {},
   "outputs": [
    {
     "name": "stdout",
     "output_type": "stream",
     "text": [
      "[[1.00000000e+00 2.00000000e+00 4.00000000e+00 8.00000000e+00\n",
      "  1.60000000e+01 3.20000000e+01 6.40000000e+01 1.28000000e+02]\n",
      " [2.56000000e+02 5.12000000e+02 1.02400000e+03 2.04800000e+03\n",
      "  4.09600000e+03 8.19200000e+03 1.63840000e+04 3.27680000e+04]\n",
      " [6.55360000e+04 1.31072000e+05 2.62144000e+05 5.24288000e+05\n",
      "  1.04857600e+06 2.09715200e+06 4.19430400e+06 8.38860800e+06]\n",
      " [1.67772160e+07 3.35544320e+07 6.71088640e+07 1.34217728e+08\n",
      "  2.68435456e+08 5.36870912e+08 1.07374182e+09 2.14748365e+09]\n",
      " [4.29496730e+09 8.58993459e+09 1.71798692e+10 3.43597384e+10\n",
      "  6.87194767e+10 1.37438953e+11 2.74877907e+11 5.49755814e+11]\n",
      " [1.09951163e+12 2.19902326e+12 4.39804651e+12 8.79609302e+12\n",
      "  1.75921860e+13 3.51843721e+13 7.03687442e+13 1.40737488e+14]\n",
      " [2.81474977e+14 5.62949953e+14 1.12589991e+15 2.25179981e+15\n",
      "  4.50359963e+15 9.00719925e+15 1.80143985e+16 3.60287970e+16]\n",
      " [7.20575940e+16 1.44115188e+17 2.88230376e+17 5.76460752e+17\n",
      "  1.15292150e+18 2.30584301e+18 4.61168602e+18 9.22337204e+18]]\n"
     ]
    }
   ],
   "source": [
    "def generate_board(_board_shape: tuple) -> ndarray:\n",
    "    _board = np.array([1], dtype=np.float64) # The second argument helps to solve the following error \"RuntimeWarning: overflow encountered in long_scalars\"\n",
    "    for i in range(_board_shape[0] * _board_shape[1] - 1):\n",
    "        _board = np.append(_board, [_board[-1] * 2])\n",
    "    return _board.reshape(_board_shape)\n",
    "\n",
    "print(generate_board((8, 8)))"
   ]
  },
  {
   "cell_type": "code",
   "execution_count": null,
   "metadata": {},
   "outputs": [],
   "source": []
  }
 ],
 "metadata": {
  "kernelspec": {
   "display_name": "Python 3",
   "language": "python",
   "name": "python3"
  },
  "language_info": {
   "codemirror_mode": {
    "name": "ipython",
    "version": 3
   },
   "file_extension": ".py",
   "mimetype": "text/x-python",
   "name": "python",
   "nbconvert_exporter": "python",
   "pygments_lexer": "ipython3",
   "version": "3.7.9"
  }
 },
 "nbformat": 4,
 "nbformat_minor": 2
}
