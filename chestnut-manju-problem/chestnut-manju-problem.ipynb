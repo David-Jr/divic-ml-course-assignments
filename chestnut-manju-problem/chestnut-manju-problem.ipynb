{
 "cells": [
  {
   "cell_type": "markdown",
   "source": [
    "## Chestnut manju problem\n"
   ],
   "metadata": {
    "collapsed": false
   },
   "id": "c3f9afb6962ab6f3"
  },
  {
   "cell_type": "markdown",
   "source": [
    "### Time to fill the Solar System with chestnuts"
   ],
   "metadata": {
    "collapsed": false
   },
   "id": "7e65fec28b579816"
  },
  {
   "cell_type": "code",
   "execution_count": 6,
   "id": "initial_id",
   "metadata": {
    "collapsed": true,
    "ExecuteTime": {
     "end_time": "2023-11-13T21:17:12.204516300Z",
     "start_time": "2023-11-13T21:17:12.182023600Z"
    }
   },
   "outputs": [
    {
     "name": "stdout",
     "output_type": "stream",
     "text": [
      "It takes 825 minutes to fill the solar system with chestnut buns.\n"
     ]
    }
   ],
   "source": [
    "import numpy as np\n",
    "\n",
    "solar_system_radius = 143.73E9 # Billion kilometers\n",
    "chestnut_radius = 0.000005 # Kilometers (Assuming 5 mm radius) \n",
    "\n",
    "def compute_sphere_volume(_radius: float) -> float:\n",
    "    return 4/3 * np.pi * pow(_radius, 3)\n",
    "\n",
    "solar_system_volume = compute_sphere_volume(solar_system_radius)\n",
    "chestnut_volume = compute_sphere_volume(chestnut_radius)\n",
    "\n",
    "minutes_passed = 0\n",
    "\n",
    "while chestnut_volume < solar_system_volume:\n",
    "    minutes_passed += 5\n",
    "    chestnut_volume = chestnut_volume * 2\n",
    "\n",
    "print(f\"It takes {minutes_passed} minutes to fill the solar system with chestnut buns.\")"
   ]
  }
 ],
 "metadata": {
  "kernelspec": {
   "display_name": "Python 3",
   "language": "python",
   "name": "python3"
  },
  "language_info": {
   "codemirror_mode": {
    "name": "ipython",
    "version": 2
   },
   "file_extension": ".py",
   "mimetype": "text/x-python",
   "name": "python",
   "nbconvert_exporter": "python",
   "pygments_lexer": "ipython2",
   "version": "2.7.6"
  }
 },
 "nbformat": 4,
 "nbformat_minor": 5
}
